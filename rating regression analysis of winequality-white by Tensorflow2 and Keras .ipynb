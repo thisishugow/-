{
 "cells": [
  {
   "cell_type": "markdown",
   "metadata": {},
   "source": [
    "# Rating regression analysis of winequality-white \n",
    "Winequality-white is a dataset consisting of 10 features and the quality. The features are the levels of chemical ingredients in the wine, which may influence the taste of the wine. Aiming of this exercise is to construct a model for quality regression analysis by deep learning methods. The tools I use are the most popular deep learning packages called Tensorflow (version 2.0) and API Keras. The importance of the feature is not the question I wanna discuss in this case. (Note, I've already analyzed dataset by some ensembling methods, which are the method that is easier to find the significant features. The result was the actually significant features are barely to find. Meaning, it seems the importance of each feature is approximately equal.)  "
   ]
  },
  {
   "cell_type": "markdown",
   "metadata": {},
   "source": [
    "### Loading the packages"
   ]
  },
  {
   "cell_type": "code",
   "execution_count": 1,
   "metadata": {},
   "outputs": [],
   "source": [
    "import tensorflow as tf\n",
    "from tensorflow import keras"
   ]
  },
  {
   "cell_type": "code",
   "execution_count": 2,
   "metadata": {},
   "outputs": [],
   "source": [
    "import numpy as np\n",
    "import pandas as pd\n",
    "from sklearn.model_selection import train_test_split  "
   ]
  },
  {
   "cell_type": "markdown",
   "metadata": {},
   "source": [
    "### Loading the dataset "
   ]
  },
  {
   "cell_type": "code",
   "execution_count": 3,
   "metadata": {},
   "outputs": [],
   "source": [
    "wine = pd.read_csv('https://raw.githubusercontent.com/thisishugow/yhw/master/winequality-white.csv')\n",
    "dataset=wine ##preventing the raw data from being destroyed"
   ]
  },
  {
   "cell_type": "markdown",
   "metadata": {},
   "source": [
    "### Normalize the features and separating it into training and testing sets\n",
    "Since the scale of the features are very different, I uses Z-scores to set the sdev to 1 and mean to 0. "
   ]
  },
  {
   "cell_type": "code",
   "execution_count": 4,
   "metadata": {},
   "outputs": [],
   "source": [
    "for i in np.arange(0,11):\n",
    "    mean=np.mean(dataset.iloc[:,i])\n",
    "    std=np.std(dataset.iloc[:,i], ddof=1)\n",
    "    for m in np.arange(0, len(dataset)):\n",
    "        z_score = (dataset.iloc[m,i]-mean)/std\n",
    "        dataset.iloc[m,i] = z_score;\n",
    "xtrain, xtest, ytrain, ytest = train_test_split(dataset.iloc[:,0:10], dataset.iloc[:,11].astype('float32'), \n",
    "                                                random_state=31, test_size=.3)                      "
   ]
  },
  {
   "cell_type": "markdown",
   "metadata": {},
   "source": [
    "Function 'train_test_split' helps separating the original datatest into the training set and testing set with ratio 7:3. '.astype('float')' transfer the type of the column from str to float since Tensorflow computes with float. "
   ]
  },
  {
   "cell_type": "markdown",
   "metadata": {},
   "source": [
    "### Build the model"
   ]
  },
  {
   "cell_type": "code",
   "execution_count": 5,
   "metadata": {},
   "outputs": [
    {
     "name": "stdout",
     "output_type": "stream",
     "text": [
      "Model: \"sequential\"\n",
      "_________________________________________________________________\n",
      "Layer (type)                 Output Shape              Param #   \n",
      "=================================================================\n",
      "dense (Dense)                (None, 16)                176       \n",
      "_________________________________________________________________\n",
      "dense_1 (Dense)              (None, 32)                544       \n",
      "_________________________________________________________________\n",
      "dense_2 (Dense)              (None, 16)                528       \n",
      "_________________________________________________________________\n",
      "dense_3 (Dense)              (None, 1)                 17        \n",
      "=================================================================\n",
      "Total params: 1,265\n",
      "Trainable params: 1,265\n",
      "Non-trainable params: 0\n",
      "_________________________________________________________________\n"
     ]
    }
   ],
   "source": [
    "model = keras.models.Sequential()  #load Sequential(), which is the major method for constructing a model\n",
    "model.add(keras.layers.Dense(16, activation = 'relu', input_shape=(10,)))\n",
    "\"\"\"\n",
    "input_shape is the dimension of the data which is necessary argument in the first layer.\n",
    "'activation'set as 'relu'（Rectified Linear Unit, ReLU）which is widely applied in deep learning now, intead of Sigmoid.\n",
    "The number of dense unit(set to be 8 here) is subjectively based on my personal experience with no reason.\n",
    "\"\"\"\n",
    "model.add(keras.layers.Dense(32, kernel_regularizer=keras.regularizers.l2(0.001), activation = 'relu'))\n",
    "model.add(keras.layers.Dense(16,kernel_regularizer=keras.regularizers.l2(0.001), activation = 'relu'))\n",
    "model.add(keras.layers.Dense(1)) #Since this is a regression problem, the num of dense unit is one.\n",
    "model.summary()"
   ]
  },
  {
   "cell_type": "markdown",
   "metadata": {},
   "source": [
    "##### *keras.regularizers.l2(): Regularizer\n",
    "This is a method to avoid overfitting. The math detail here(https://en.wikipedia.org/wiki/Regularization_(mathematics))"
   ]
  },
  {
   "cell_type": "code",
   "execution_count": 6,
   "metadata": {},
   "outputs": [
    {
     "data": {
      "text/plain": [
       "'\\nAdam is the most popular optimizer and fits most problems.\\n'"
      ]
     },
     "execution_count": 6,
     "metadata": {},
     "output_type": "execute_result"
    }
   ],
   "source": [
    "# compiling the model.\n",
    "model.compile(keras.optimizers.Adam(0.001),  ## learning rate\n",
    "              loss= keras.losses.MeanSquaredError(),#\n",
    "              metrics=[keras.metrics.MeanSquaredError()])\n",
    "\"\"\"\n",
    "Adam is the most popular optimizer and fits most problems.\n",
    "\"\"\""
   ]
  },
  {
   "cell_type": "markdown",
   "metadata": {},
   "source": [
    "Before the model is ready for training, it needs a few more settings. These are added during the model's *compile* step:\n",
    "\n",
    "\n",
    "* *Loss function* — An algorithm for measuring how far the model's outputs are from the desired output. The goal of training is this measures loss.\n",
    "* *Optimizer* —An algorithm for adjusting the inner parameters of the model in order to minimize loss.\n",
    "* *Metrics* —Used to monitor the training and testing steps. The following example uses *accuracy*, the fraction of the images that are correctly classified.\n",
    "\n",
    "Reference: \"Basic classification: Classify images of clothing\", https://www.tensorflow.org/tutorials/keras/classification"
   ]
  },
  {
   "cell_type": "markdown",
   "metadata": {},
   "source": [
    "### Starting to train the model"
   ]
  },
  {
   "cell_type": "code",
   "execution_count": 7,
   "metadata": {
    "scrolled": true
   },
   "outputs": [
    {
     "name": "stdout",
     "output_type": "stream",
     "text": [
      "Train on 3428 samples\n",
      "Epoch 1/100\n",
      "3428/3428 [==============================] - 1s 189us/sample - loss: 20.6199 - mean_squared_error: 20.5757\n",
      "Epoch 2/100\n",
      "3428/3428 [==============================] - 0s 72us/sample - loss: 3.2977 - mean_squared_error: 3.2520\n",
      "Epoch 3/100\n",
      "3428/3428 [==============================] - 0s 71us/sample - loss: 2.2559 - mean_squared_error: 2.2108\n",
      "Epoch 4/100\n",
      "3428/3428 [==============================] - 0s 68us/sample - loss: 1.6217 - mean_squared_error: 1.5769\n",
      "Epoch 5/100\n",
      "3428/3428 [==============================] - 0s 65us/sample - loss: 1.2211 - mean_squared_error: 1.1766\n",
      "Epoch 6/100\n",
      "3428/3428 [==============================] - 0s 63us/sample - loss: 0.9713 - mean_squared_error: 0.9272\n",
      "Epoch 7/100\n",
      "3428/3428 [==============================] - 0s 64us/sample - loss: 0.8053 - mean_squared_error: 0.7615\n",
      "Epoch 8/100\n",
      "3428/3428 [==============================] - 0s 95us/sample - loss: 0.7079 - mean_squared_error: 0.6646\n",
      "Epoch 9/100\n",
      "3428/3428 [==============================] - 0s 70us/sample - loss: 0.6492 - mean_squared_error: 0.6063\n",
      "Epoch 10/100\n",
      "3428/3428 [==============================] - 0s 64us/sample - loss: 0.6170 - mean_squared_error: 0.5745\n",
      "Epoch 11/100\n",
      "3428/3428 [==============================] - 0s 67us/sample - loss: 0.5926 - mean_squared_error: 0.5504\n",
      "Epoch 12/100\n",
      "3428/3428 [==============================] - 0s 64us/sample - loss: 0.5750 - mean_squared_error: 0.5332\n",
      "Epoch 13/100\n",
      "3428/3428 [==============================] - 0s 74us/sample - loss: 0.5665 - mean_squared_error: 0.5250\n",
      "Epoch 14/100\n",
      "3428/3428 [==============================] - 0s 71us/sample - loss: 0.5576 - mean_squared_error: 0.5164\n",
      "Epoch 15/100\n",
      "3428/3428 [==============================] - 0s 66us/sample - loss: 0.5497 - mean_squared_error: 0.5089\n",
      "Epoch 16/100\n",
      "3428/3428 [==============================] - 0s 73us/sample - loss: 0.5449 - mean_squared_error: 0.5045\n",
      "Epoch 17/100\n",
      "3428/3428 [==============================] - 0s 68us/sample - loss: 0.5401 - mean_squared_error: 0.5000\n",
      "Epoch 18/100\n",
      "3428/3428 [==============================] - 0s 69us/sample - loss: 0.5397 - mean_squared_error: 0.5000\n",
      "Epoch 19/100\n",
      "3428/3428 [==============================] - 0s 71us/sample - loss: 0.5338 - mean_squared_error: 0.4944\n",
      "Epoch 20/100\n",
      "3428/3428 [==============================] - 0s 71us/sample - loss: 0.5262 - mean_squared_error: 0.4871\n",
      "Epoch 21/100\n",
      "3428/3428 [==============================] - 0s 69us/sample - loss: 0.5242 - mean_squared_error: 0.4855\n",
      "Epoch 22/100\n",
      "3428/3428 [==============================] - 0s 68us/sample - loss: 0.5205 - mean_squared_error: 0.4820\n",
      "Epoch 23/100\n",
      "3428/3428 [==============================] - 0s 66us/sample - loss: 0.5223 - mean_squared_error: 0.4841\n",
      "Epoch 24/100\n",
      "3428/3428 [==============================] - 0s 68us/sample - loss: 0.5158 - mean_squared_error: 0.4778\n",
      "Epoch 25/100\n",
      "3428/3428 [==============================] - 0s 67us/sample - loss: 0.5115 - mean_squared_error: 0.4738\n",
      "Epoch 26/100\n",
      "3428/3428 [==============================] - 0s 69us/sample - loss: 0.5113 - mean_squared_error: 0.4739\n",
      "Epoch 27/100\n",
      "3428/3428 [==============================] - 0s 67us/sample - loss: 0.5065 - mean_squared_error: 0.4693\n",
      "Epoch 28/100\n",
      "3428/3428 [==============================] - 0s 67us/sample - loss: 0.5092 - mean_squared_error: 0.4722\n",
      "Epoch 29/100\n",
      "3428/3428 [==============================] - 0s 70us/sample - loss: 0.5013 - mean_squared_error: 0.4645\n",
      "Epoch 30/100\n",
      "3428/3428 [==============================] - 0s 67us/sample - loss: 0.5034 - mean_squared_error: 0.4668\n",
      "Epoch 31/100\n",
      "3428/3428 [==============================] - 0s 70us/sample - loss: 0.5030 - mean_squared_error: 0.4667\n",
      "Epoch 32/100\n",
      "3428/3428 [==============================] - 0s 66us/sample - loss: 0.4978 - mean_squared_error: 0.4616\n",
      "Epoch 33/100\n",
      "3428/3428 [==============================] - 0s 66us/sample - loss: 0.4952 - mean_squared_error: 0.4592\n",
      "Epoch 34/100\n",
      "3428/3428 [==============================] - 0s 75us/sample - loss: 0.4916 - mean_squared_error: 0.4557\n",
      "Epoch 35/100\n",
      "3428/3428 [==============================] - 0s 77us/sample - loss: 0.4935 - mean_squared_error: 0.4579\n",
      "Epoch 36/100\n",
      "3428/3428 [==============================] - 0s 72us/sample - loss: 0.4895 - mean_squared_error: 0.4540\n",
      "Epoch 37/100\n",
      "3428/3428 [==============================] - 0s 68us/sample - loss: 0.4898 - mean_squared_error: 0.4544\n",
      "Epoch 38/100\n",
      "3428/3428 [==============================] - 0s 72us/sample - loss: 0.4832 - mean_squared_error: 0.4479\n",
      "Epoch 39/100\n",
      "3428/3428 [==============================] - 0s 68us/sample - loss: 0.4859 - mean_squared_error: 0.4507\n",
      "Epoch 40/100\n",
      "3428/3428 [==============================] - 0s 70us/sample - loss: 0.4825 - mean_squared_error: 0.4476\n",
      "Epoch 41/100\n",
      "3428/3428 [==============================] - 0s 66us/sample - loss: 0.4872 - mean_squared_error: 0.4522\n",
      "Epoch 42/100\n",
      "3428/3428 [==============================] - 0s 70us/sample - loss: 0.4834 - mean_squared_error: 0.4486\n",
      "Epoch 43/100\n",
      "3428/3428 [==============================] - 0s 72us/sample - loss: 0.4798 - mean_squared_error: 0.4451\n",
      "Epoch 44/100\n",
      "3428/3428 [==============================] - 0s 67us/sample - loss: 0.4773 - mean_squared_error: 0.4426\n",
      "Epoch 45/100\n",
      "3428/3428 [==============================] - 0s 74us/sample - loss: 0.4817 - mean_squared_error: 0.4472\n",
      "Epoch 46/100\n",
      "3428/3428 [==============================] - 0s 75us/sample - loss: 0.4720 - mean_squared_error: 0.4375\n",
      "Epoch 47/100\n",
      "3428/3428 [==============================] - 0s 71us/sample - loss: 0.4717 - mean_squared_error: 0.4373\n",
      "Epoch 48/100\n",
      "3428/3428 [==============================] - 0s 70us/sample - loss: 0.4684 - mean_squared_error: 0.4340\n",
      "Epoch 49/100\n",
      "3428/3428 [==============================] - 0s 70us/sample - loss: 0.4728 - mean_squared_error: 0.4385\n",
      "Epoch 50/100\n",
      "3428/3428 [==============================] - 0s 72us/sample - loss: 0.4725 - mean_squared_error: 0.4382\n",
      "Epoch 51/100\n",
      "3428/3428 [==============================] - 0s 70us/sample - loss: 0.4709 - mean_squared_error: 0.4367\n",
      "Epoch 52/100\n",
      "3428/3428 [==============================] - 0s 65us/sample - loss: 0.4732 - mean_squared_error: 0.4391\n",
      "Epoch 53/100\n",
      "3428/3428 [==============================] - 0s 75us/sample - loss: 0.4660 - mean_squared_error: 0.4319\n",
      "Epoch 54/100\n",
      "3428/3428 [==============================] - 0s 72us/sample - loss: 0.4675 - mean_squared_error: 0.4335\n",
      "Epoch 55/100\n",
      "3428/3428 [==============================] - 0s 68us/sample - loss: 0.4641 - mean_squared_error: 0.4301\n",
      "Epoch 56/100\n",
      "3428/3428 [==============================] - 0s 67us/sample - loss: 0.4608 - mean_squared_error: 0.4269\n",
      "Epoch 57/100\n",
      "3428/3428 [==============================] - 0s 73us/sample - loss: 0.4599 - mean_squared_error: 0.4261\n",
      "Epoch 58/100\n",
      "3428/3428 [==============================] - 0s 68us/sample - loss: 0.4619 - mean_squared_error: 0.4281\n",
      "Epoch 59/100\n",
      "3428/3428 [==============================] - 0s 75us/sample - loss: 0.4631 - mean_squared_error: 0.4294\n",
      "Epoch 60/100\n",
      "3428/3428 [==============================] - 0s 76us/sample - loss: 0.4561 - mean_squared_error: 0.4224\n",
      "Epoch 61/100\n",
      "3428/3428 [==============================] - 0s 72us/sample - loss: 0.4618 - mean_squared_error: 0.4281\n",
      "Epoch 62/100\n",
      "3428/3428 [==============================] - 0s 65us/sample - loss: 0.4550 - mean_squared_error: 0.4214\n",
      "Epoch 63/100\n",
      "3428/3428 [==============================] - 0s 73us/sample - loss: 0.4566 - mean_squared_error: 0.4230\n",
      "Epoch 64/100\n",
      "3428/3428 [==============================] - 0s 73us/sample - loss: 0.4507 - mean_squared_error: 0.4171\n",
      "Epoch 65/100\n",
      "3428/3428 [==============================] - 0s 77us/sample - loss: 0.4591 - mean_squared_error: 0.4255\n",
      "Epoch 66/100\n",
      "3428/3428 [==============================] - 0s 74us/sample - loss: 0.4579 - mean_squared_error: 0.4243\n",
      "Epoch 67/100\n",
      "3428/3428 [==============================] - 0s 72us/sample - loss: 0.4526 - mean_squared_error: 0.4190\n",
      "Epoch 68/100\n",
      "3428/3428 [==============================] - 0s 68us/sample - loss: 0.4474 - mean_squared_error: 0.4138\n",
      "Epoch 69/100\n",
      "3428/3428 [==============================] - 0s 67us/sample - loss: 0.4495 - mean_squared_error: 0.4160\n",
      "Epoch 70/100\n"
     ]
    },
    {
     "name": "stdout",
     "output_type": "stream",
     "text": [
      "3428/3428 [==============================] - 0s 68us/sample - loss: 0.4525 - mean_squared_error: 0.4191\n",
      "Epoch 71/100\n",
      "3428/3428 [==============================] - 0s 59us/sample - loss: 0.4461 - mean_squared_error: 0.4127\n",
      "Epoch 72/100\n",
      "3428/3428 [==============================] - 0s 60us/sample - loss: 0.4476 - mean_squared_error: 0.4142\n",
      "Epoch 73/100\n",
      "3428/3428 [==============================] - 0s 64us/sample - loss: 0.4434 - mean_squared_error: 0.4100\n",
      "Epoch 74/100\n",
      "3428/3428 [==============================] - 0s 65us/sample - loss: 0.4504 - mean_squared_error: 0.4169\n",
      "Epoch 75/100\n",
      "3428/3428 [==============================] - 0s 67us/sample - loss: 0.4503 - mean_squared_error: 0.4169\n",
      "Epoch 76/100\n",
      "3428/3428 [==============================] - 0s 63us/sample - loss: 0.4441 - mean_squared_error: 0.4107\n",
      "Epoch 77/100\n",
      "3428/3428 [==============================] - 0s 63us/sample - loss: 0.4383 - mean_squared_error: 0.4048\n",
      "Epoch 78/100\n",
      "3428/3428 [==============================] - 0s 61us/sample - loss: 0.4438 - mean_squared_error: 0.4103\n",
      "Epoch 79/100\n",
      "3428/3428 [==============================] - 0s 63us/sample - loss: 0.4412 - mean_squared_error: 0.4077\n",
      "Epoch 80/100\n",
      "3428/3428 [==============================] - 0s 65us/sample - loss: 0.4386 - mean_squared_error: 0.4050\n",
      "Epoch 81/100\n",
      "3428/3428 [==============================] - 0s 62us/sample - loss: 0.4389 - mean_squared_error: 0.4054\n",
      "Epoch 82/100\n",
      "3428/3428 [==============================] - 0s 68us/sample - loss: 0.4347 - mean_squared_error: 0.4012\n",
      "Epoch 83/100\n",
      "3428/3428 [==============================] - 0s 65us/sample - loss: 0.4383 - mean_squared_error: 0.4048\n",
      "Epoch 84/100\n",
      "3428/3428 [==============================] - 0s 63us/sample - loss: 0.4332 - mean_squared_error: 0.3998\n",
      "Epoch 85/100\n",
      "3428/3428 [==============================] - 0s 64us/sample - loss: 0.4345 - mean_squared_error: 0.4010\n",
      "Epoch 86/100\n",
      "3428/3428 [==============================] - 0s 65us/sample - loss: 0.4370 - mean_squared_error: 0.4036\n",
      "Epoch 87/100\n",
      "3428/3428 [==============================] - 0s 64us/sample - loss: 0.4358 - mean_squared_error: 0.4023\n",
      "Epoch 88/100\n",
      "3428/3428 [==============================] - 0s 65us/sample - loss: 0.4313 - mean_squared_error: 0.3978\n",
      "Epoch 89/100\n",
      "3428/3428 [==============================] - 0s 70us/sample - loss: 0.4334 - mean_squared_error: 0.3999\n",
      "Epoch 90/100\n",
      "3428/3428 [==============================] - 0s 81us/sample - loss: 0.4341 - mean_squared_error: 0.4006\n",
      "Epoch 91/100\n",
      "3428/3428 [==============================] - 0s 73us/sample - loss: 0.4327 - mean_squared_error: 0.3992\n",
      "Epoch 92/100\n",
      "3428/3428 [==============================] - 0s 90us/sample - loss: 0.4327 - mean_squared_error: 0.3992\n",
      "Epoch 93/100\n",
      "3428/3428 [==============================] - 0s 66us/sample - loss: 0.4272 - mean_squared_error: 0.3938\n",
      "Epoch 94/100\n",
      "3428/3428 [==============================] - 0s 61us/sample - loss: 0.4298 - mean_squared_error: 0.3963\n",
      "Epoch 95/100\n",
      "3428/3428 [==============================] - 0s 61us/sample - loss: 0.4309 - mean_squared_error: 0.3974\n",
      "Epoch 96/100\n",
      "3428/3428 [==============================] - 0s 65us/sample - loss: 0.4249 - mean_squared_error: 0.3914\n",
      "Epoch 97/100\n",
      "3428/3428 [==============================] - 0s 63us/sample - loss: 0.4286 - mean_squared_error: 0.3951\n",
      "Epoch 98/100\n",
      "3428/3428 [==============================] - 0s 64us/sample - loss: 0.4236 - mean_squared_error: 0.3902\n",
      "Epoch 99/100\n",
      "3428/3428 [==============================] - 0s 63us/sample - loss: 0.4238 - mean_squared_error: 0.3904\n",
      "Epoch 100/100\n",
      "3428/3428 [==============================] - 0s 62us/sample - loss: 0.4233 - mean_squared_error: 0.3899\n"
     ]
    }
   ],
   "source": [
    "import math\n",
    "history = model.fit(xtrain, ytrain,\n",
    "                    batch_size=32,\n",
    "                    epochs=100,\n",
    "                    steps_per_epoch=math.ceil(len(xtrain)/32))"
   ]
  },
  {
   "cell_type": "markdown",
   "metadata": {},
   "source": [
    "### Ploting the loss and mse"
   ]
  },
  {
   "cell_type": "code",
   "execution_count": 8,
   "metadata": {},
   "outputs": [
    {
     "data": {
      "text/plain": [
       "<matplotlib.legend.Legend at 0x7f354c1a2cd0>"
      ]
     },
     "execution_count": 8,
     "metadata": {},
     "output_type": "execute_result"
    },
    {
     "data": {
      "image/png": "[encoded data removed]",
      "text/plain": [
       "<Figure size 432x288 with 1 Axes>"
      ]
     },
     "metadata": {
      "needs_background": "light"
     },
     "output_type": "display_data"
    }
   ],
   "source": [
    "\n",
    "%matplotlib inline\n",
    "import matplotlib.pylab as plt\n",
    "plt.plot(history.history['loss'], label='train')\n",
    "plt.xlabel('epochs')\n",
    "plt.ylabel('loss')\n",
    "plt.legend(loc='upper right')"
   ]
  },
  {
   "cell_type": "code",
   "execution_count": 9,
   "metadata": {
    "scrolled": false
   },
   "outputs": [
    {
     "data": {
      "text/plain": [
       "<matplotlib.legend.Legend at 0x7f354c135c50>"
      ]
     },
     "execution_count": 9,
     "metadata": {},
     "output_type": "execute_result"
    },
    {
     "data": {
      "image/png": "[encoded data removed]",
      "text/plain": [
       "<Figure size 432x288 with 1 Axes>"
      ]
     },
     "metadata": {
      "needs_background": "light"
     },
     "output_type": "display_data"
    }
   ],
   "source": [
    "plt.plot(history.history['mean_squared_error'], label='train')\n",
    "plt.xlabel('epochs')\n",
    "plt.ylabel('MSE')\n",
    "plt.legend(loc='upper right')"
   ]
  },
  {
   "cell_type": "markdown",
   "metadata": {},
   "source": [
    "As the plots showed, the epoch may be 10~20 is enough."
   ]
  },
  {
   "cell_type": "markdown",
   "metadata": {},
   "source": [
    "### Validation"
   ]
  },
  {
   "cell_type": "code",
   "execution_count": 10,
   "metadata": {
    "scrolled": true
   },
   "outputs": [
    {
     "name": "stdout",
     "output_type": "stream",
     "text": [
      "1470/1470 [==============================] - 0s 108us/sample - loss: 0.5176 - mean_squared_error: 0.4842\n",
      "MSE on test dataset: 0.4842121\n"
     ]
    }
   ],
   "source": [
    "test_loss, test_mse = model.evaluate(x=xtest,y=ytest, steps=math.ceil(len(xtest)/32))\n",
    "print('MSE on test dataset:', test_mse)"
   ]
  },
  {
   "cell_type": "code",
   "execution_count": 11,
   "metadata": {},
   "outputs": [
    {
     "data": {
      "text/html": [
       "<div>\n",
       "<style scoped>\n",
       "    .dataframe tbody tr th:only-of-type {\n",
       "        vertical-align: middle;\n",
       "    }\n",
       "\n",
       "    .dataframe tbody tr th {\n",
       "        vertical-align: top;\n",
       "    }\n",
       "\n",
       "    .dataframe thead th {\n",
       "        text-align: right;\n",
       "    }\n",
       "</style>\n",
       "<table border=\"1\" class=\"dataframe\">\n",
       "  <thead>\n",
       "    <tr style=\"text-align: right;\">\n",
       "      <th></th>\n",
       "      <th>actual value</th>\n",
       "      <th>prediction</th>\n",
       "    </tr>\n",
       "  </thead>\n",
       "  <tbody>\n",
       "    <tr>\n",
       "      <td>827</td>\n",
       "      <td>9.0</td>\n",
       "      <td>6.478860</td>\n",
       "    </tr>\n",
       "    <tr>\n",
       "      <td>1083</td>\n",
       "      <td>6.0</td>\n",
       "      <td>6.400327</td>\n",
       "    </tr>\n",
       "    <tr>\n",
       "      <td>2495</td>\n",
       "      <td>5.0</td>\n",
       "      <td>6.099692</td>\n",
       "    </tr>\n",
       "    <tr>\n",
       "      <td>1655</td>\n",
       "      <td>5.0</td>\n",
       "      <td>5.429289</td>\n",
       "    </tr>\n",
       "    <tr>\n",
       "      <td>4403</td>\n",
       "      <td>5.0</td>\n",
       "      <td>5.662506</td>\n",
       "    </tr>\n",
       "    <tr>\n",
       "      <td>...</td>\n",
       "      <td>...</td>\n",
       "      <td>...</td>\n",
       "    </tr>\n",
       "    <tr>\n",
       "      <td>4189</td>\n",
       "      <td>5.0</td>\n",
       "      <td>5.964033</td>\n",
       "    </tr>\n",
       "    <tr>\n",
       "      <td>2280</td>\n",
       "      <td>6.0</td>\n",
       "      <td>5.707448</td>\n",
       "    </tr>\n",
       "    <tr>\n",
       "      <td>2633</td>\n",
       "      <td>5.0</td>\n",
       "      <td>5.925085</td>\n",
       "    </tr>\n",
       "    <tr>\n",
       "      <td>1035</td>\n",
       "      <td>6.0</td>\n",
       "      <td>5.734235</td>\n",
       "    </tr>\n",
       "    <tr>\n",
       "      <td>2574</td>\n",
       "      <td>5.0</td>\n",
       "      <td>5.815291</td>\n",
       "    </tr>\n",
       "  </tbody>\n",
       "</table>\n",
       "<p>1470 rows × 2 columns</p>\n",
       "</div>"
      ],
      "text/plain": [
       "      actual value  prediction\n",
       "827            9.0    6.478860\n",
       "1083           6.0    6.400327\n",
       "2495           5.0    6.099692\n",
       "1655           5.0    5.429289\n",
       "4403           5.0    5.662506\n",
       "...            ...         ...\n",
       "4189           5.0    5.964033\n",
       "2280           6.0    5.707448\n",
       "2633           5.0    5.925085\n",
       "1035           6.0    5.734235\n",
       "2574           5.0    5.815291\n",
       "\n",
       "[1470 rows x 2 columns]"
      ]
     },
     "execution_count": 11,
     "metadata": {},
     "output_type": "execute_result"
    }
   ],
   "source": [
    "result=pd.DataFrame({'actual value':ytest})\n",
    "result['prediction'] = model.predict(xtest).reshape(1470,1)  #the original shape of np.array is (1, 1470).\n",
    "result"
   ]
  }
 ],
 "metadata": {
  "kernelspec": {
   "display_name": "Python 3",
   "language": "python",
   "name": "python3"
  },
  "language_info": {
   "codemirror_mode": {
    "name": "ipython",
    "version": 3
   },
   "file_extension": ".py",
   "mimetype": "text/x-python",
   "name": "python",
   "nbconvert_exporter": "python",
   "pygments_lexer": "ipython3",
   "version": "3.7.4"
  }
 },
 "nbformat": 4,
 "nbformat_minor": 2
}
