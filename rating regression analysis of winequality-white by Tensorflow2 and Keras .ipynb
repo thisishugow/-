{
 "cells": [
  {
   "cell_type": "markdown",
   "metadata": {},
   "source": [
    "# Rating regression analysis of winequality-white \n",
    "Winequality-white is a dataset consisting of 11 features and the quality. The features are the levels of chemical ingredients in the wine, which may influence the taste of the wine. Aiming of this exercise is to construct a model for quality regression analysis by deep learning methods. The tools I use are the most popular deep learning packages called Tensorflow (version 2.0) and API Keras. The importance of the feature is not the question I wanna discuss in this case. (Note, I've already analyzed dataset by some ensembling methods, which are the method that is easier to find the significant features. The result was the actually significant features are barely to find. Meaning, it seems the importance of each feature is approximately equal.)  "
   ]
  },
  {
   "cell_type": "markdown",
   "metadata": {},
   "source": [
    "### Loading the packages"
   ]
  },
  {
   "cell_type": "code",
   "execution_count": 1,
   "metadata": {},
   "outputs": [],
   "source": [
    "import tensorflow as tf\n",
    "from tensorflow import keras"
   ]
  },
  {
   "cell_type": "code",
   "execution_count": 2,
   "metadata": {},
   "outputs": [],
   "source": [
    "import numpy as np\n",
    "import pandas as pd\n",
    "from sklearn.model_selection import train_test_split  "
   ]
  },
  {
   "cell_type": "markdown",
   "metadata": {},
   "source": [
    "### Loading the dataset "
   ]
  },
  {
   "cell_type": "code",
   "execution_count": 3,
   "metadata": {},
   "outputs": [
    {
     "data": {
      "text/html": [
       "<div>\n",
       "<style scoped>\n",
       "    .dataframe tbody tr th:only-of-type {\n",
       "        vertical-align: middle;\n",
       "    }\n",
       "\n",
       "    .dataframe tbody tr th {\n",
       "        vertical-align: top;\n",
       "    }\n",
       "\n",
       "    .dataframe thead th {\n",
       "        text-align: right;\n",
       "    }\n",
       "</style>\n",
       "<table border=\"1\" class=\"dataframe\">\n",
       "  <thead>\n",
       "    <tr style=\"text-align: right;\">\n",
       "      <th></th>\n",
       "      <th>fixed acidity</th>\n",
       "      <th>volatile acidity</th>\n",
       "      <th>citric acid</th>\n",
       "      <th>residual sugar</th>\n",
       "      <th>chlorides</th>\n",
       "      <th>free sulfur dioxide</th>\n",
       "      <th>total sulfur dioxide</th>\n",
       "      <th>density</th>\n",
       "      <th>pH</th>\n",
       "      <th>sulphates</th>\n",
       "      <th>alcohol</th>\n",
       "      <th>quality</th>\n",
       "    </tr>\n",
       "  </thead>\n",
       "  <tbody>\n",
       "    <tr>\n",
       "      <td>0</td>\n",
       "      <td>7.0</td>\n",
       "      <td>0.27</td>\n",
       "      <td>0.36</td>\n",
       "      <td>20.7</td>\n",
       "      <td>0.045</td>\n",
       "      <td>45.0</td>\n",
       "      <td>170.0</td>\n",
       "      <td>1.00100</td>\n",
       "      <td>3.00</td>\n",
       "      <td>0.45</td>\n",
       "      <td>8.8</td>\n",
       "      <td>6</td>\n",
       "    </tr>\n",
       "    <tr>\n",
       "      <td>1</td>\n",
       "      <td>6.3</td>\n",
       "      <td>0.30</td>\n",
       "      <td>0.34</td>\n",
       "      <td>1.6</td>\n",
       "      <td>0.049</td>\n",
       "      <td>14.0</td>\n",
       "      <td>132.0</td>\n",
       "      <td>0.99400</td>\n",
       "      <td>3.30</td>\n",
       "      <td>0.49</td>\n",
       "      <td>9.5</td>\n",
       "      <td>6</td>\n",
       "    </tr>\n",
       "    <tr>\n",
       "      <td>2</td>\n",
       "      <td>8.1</td>\n",
       "      <td>0.28</td>\n",
       "      <td>0.40</td>\n",
       "      <td>6.9</td>\n",
       "      <td>0.050</td>\n",
       "      <td>30.0</td>\n",
       "      <td>97.0</td>\n",
       "      <td>0.99510</td>\n",
       "      <td>3.26</td>\n",
       "      <td>0.44</td>\n",
       "      <td>10.1</td>\n",
       "      <td>6</td>\n",
       "    </tr>\n",
       "    <tr>\n",
       "      <td>3</td>\n",
       "      <td>7.2</td>\n",
       "      <td>0.23</td>\n",
       "      <td>0.32</td>\n",
       "      <td>8.5</td>\n",
       "      <td>0.058</td>\n",
       "      <td>47.0</td>\n",
       "      <td>186.0</td>\n",
       "      <td>0.99560</td>\n",
       "      <td>3.19</td>\n",
       "      <td>0.40</td>\n",
       "      <td>9.9</td>\n",
       "      <td>6</td>\n",
       "    </tr>\n",
       "    <tr>\n",
       "      <td>4</td>\n",
       "      <td>7.2</td>\n",
       "      <td>0.23</td>\n",
       "      <td>0.32</td>\n",
       "      <td>8.5</td>\n",
       "      <td>0.058</td>\n",
       "      <td>47.0</td>\n",
       "      <td>186.0</td>\n",
       "      <td>0.99560</td>\n",
       "      <td>3.19</td>\n",
       "      <td>0.40</td>\n",
       "      <td>9.9</td>\n",
       "      <td>6</td>\n",
       "    </tr>\n",
       "    <tr>\n",
       "      <td>...</td>\n",
       "      <td>...</td>\n",
       "      <td>...</td>\n",
       "      <td>...</td>\n",
       "      <td>...</td>\n",
       "      <td>...</td>\n",
       "      <td>...</td>\n",
       "      <td>...</td>\n",
       "      <td>...</td>\n",
       "      <td>...</td>\n",
       "      <td>...</td>\n",
       "      <td>...</td>\n",
       "      <td>...</td>\n",
       "    </tr>\n",
       "    <tr>\n",
       "      <td>4893</td>\n",
       "      <td>6.2</td>\n",
       "      <td>0.21</td>\n",
       "      <td>0.29</td>\n",
       "      <td>1.6</td>\n",
       "      <td>0.039</td>\n",
       "      <td>24.0</td>\n",
       "      <td>92.0</td>\n",
       "      <td>0.99114</td>\n",
       "      <td>3.27</td>\n",
       "      <td>0.50</td>\n",
       "      <td>11.2</td>\n",
       "      <td>6</td>\n",
       "    </tr>\n",
       "    <tr>\n",
       "      <td>4894</td>\n",
       "      <td>6.6</td>\n",
       "      <td>0.32</td>\n",
       "      <td>0.36</td>\n",
       "      <td>8.0</td>\n",
       "      <td>0.047</td>\n",
       "      <td>57.0</td>\n",
       "      <td>168.0</td>\n",
       "      <td>0.99490</td>\n",
       "      <td>3.15</td>\n",
       "      <td>0.46</td>\n",
       "      <td>9.6</td>\n",
       "      <td>5</td>\n",
       "    </tr>\n",
       "    <tr>\n",
       "      <td>4895</td>\n",
       "      <td>6.5</td>\n",
       "      <td>0.24</td>\n",
       "      <td>0.19</td>\n",
       "      <td>1.2</td>\n",
       "      <td>0.041</td>\n",
       "      <td>30.0</td>\n",
       "      <td>111.0</td>\n",
       "      <td>0.99254</td>\n",
       "      <td>2.99</td>\n",
       "      <td>0.46</td>\n",
       "      <td>9.4</td>\n",
       "      <td>6</td>\n",
       "    </tr>\n",
       "    <tr>\n",
       "      <td>4896</td>\n",
       "      <td>5.5</td>\n",
       "      <td>0.29</td>\n",
       "      <td>0.30</td>\n",
       "      <td>1.1</td>\n",
       "      <td>0.022</td>\n",
       "      <td>20.0</td>\n",
       "      <td>110.0</td>\n",
       "      <td>0.98869</td>\n",
       "      <td>3.34</td>\n",
       "      <td>0.38</td>\n",
       "      <td>12.8</td>\n",
       "      <td>7</td>\n",
       "    </tr>\n",
       "    <tr>\n",
       "      <td>4897</td>\n",
       "      <td>6.0</td>\n",
       "      <td>0.21</td>\n",
       "      <td>0.38</td>\n",
       "      <td>0.8</td>\n",
       "      <td>0.020</td>\n",
       "      <td>22.0</td>\n",
       "      <td>98.0</td>\n",
       "      <td>0.98941</td>\n",
       "      <td>3.26</td>\n",
       "      <td>0.32</td>\n",
       "      <td>11.8</td>\n",
       "      <td>6</td>\n",
       "    </tr>\n",
       "  </tbody>\n",
       "</table>\n",
       "<p>4898 rows × 12 columns</p>\n",
       "</div>"
      ],
      "text/plain": [
       "      fixed acidity  volatile acidity  citric acid  residual sugar  chlorides  \\\n",
       "0               7.0              0.27         0.36            20.7      0.045   \n",
       "1               6.3              0.30         0.34             1.6      0.049   \n",
       "2               8.1              0.28         0.40             6.9      0.050   \n",
       "3               7.2              0.23         0.32             8.5      0.058   \n",
       "4               7.2              0.23         0.32             8.5      0.058   \n",
       "...             ...               ...          ...             ...        ...   \n",
       "4893            6.2              0.21         0.29             1.6      0.039   \n",
       "4894            6.6              0.32         0.36             8.0      0.047   \n",
       "4895            6.5              0.24         0.19             1.2      0.041   \n",
       "4896            5.5              0.29         0.30             1.1      0.022   \n",
       "4897            6.0              0.21         0.38             0.8      0.020   \n",
       "\n",
       "      free sulfur dioxide  total sulfur dioxide  density    pH  sulphates  \\\n",
       "0                    45.0                 170.0  1.00100  3.00       0.45   \n",
       "1                    14.0                 132.0  0.99400  3.30       0.49   \n",
       "2                    30.0                  97.0  0.99510  3.26       0.44   \n",
       "3                    47.0                 186.0  0.99560  3.19       0.40   \n",
       "4                    47.0                 186.0  0.99560  3.19       0.40   \n",
       "...                   ...                   ...      ...   ...        ...   \n",
       "4893                 24.0                  92.0  0.99114  3.27       0.50   \n",
       "4894                 57.0                 168.0  0.99490  3.15       0.46   \n",
       "4895                 30.0                 111.0  0.99254  2.99       0.46   \n",
       "4896                 20.0                 110.0  0.98869  3.34       0.38   \n",
       "4897                 22.0                  98.0  0.98941  3.26       0.32   \n",
       "\n",
       "      alcohol  quality  \n",
       "0         8.8        6  \n",
       "1         9.5        6  \n",
       "2        10.1        6  \n",
       "3         9.9        6  \n",
       "4         9.9        6  \n",
       "...       ...      ...  \n",
       "4893     11.2        6  \n",
       "4894      9.6        5  \n",
       "4895      9.4        6  \n",
       "4896     12.8        7  \n",
       "4897     11.8        6  \n",
       "\n",
       "[4898 rows x 12 columns]"
      ]
     },
     "execution_count": 3,
     "metadata": {},
     "output_type": "execute_result"
    }
   ],
   "source": [
    "wine = pd.read_csv('https://raw.githubusercontent.com/thisishugow/yhw/master/winequality-white.csv')\n",
    "dataset=wine ##preventing the raw data from being destroyed\n",
    "wine"
   ]
  },
  {
   "cell_type": "markdown",
   "metadata": {},
   "source": [
    "### Normalize the features and separating it into training and testing sets\n",
    "Since the scale of the features are very different, I uses Z-scores to set the sdev to 1 and mean to 0. "
   ]
  },
  {
   "cell_type": "code",
   "execution_count": 4,
   "metadata": {},
   "outputs": [],
   "source": [
    "for i in np.arange(0,11):\n",
    "    mean=np.mean(dataset.iloc[:,i])\n",
    "    std=np.std(dataset.iloc[:,i], ddof=1)\n",
    "    for m in np.arange(0, len(dataset)):\n",
    "        z_score = (dataset.iloc[m,i]-mean)/std\n",
    "        dataset.iloc[m,i] = z_score;\n",
    "xtrain, xtest, ytrain, ytest = train_test_split(dataset.iloc[:,0:11], dataset.iloc[:,11].astype('float32'), \n",
    "                                                random_state=31, test_size=.3)                      "
   ]
  },
  {
   "cell_type": "markdown",
   "metadata": {},
   "source": [
    "Function 'train_test_split' helps separating the original datatest into the training set and testing set with ratio 7:3. '.astype('float')' transfer the type of the column from str to float since Tensorflow computes with float. "
   ]
  },
  {
   "cell_type": "markdown",
   "metadata": {},
   "source": [
    "### Build the model"
   ]
  },
  {
   "cell_type": "code",
   "execution_count": 5,
   "metadata": {},
   "outputs": [
    {
     "name": "stdout",
     "output_type": "stream",
     "text": [
      "Model: \"sequential\"\n",
      "_________________________________________________________________\n",
      "Layer (type)                 Output Shape              Param #   \n",
      "=================================================================\n",
      "dense (Dense)                (None, 16)                192       \n",
      "_________________________________________________________________\n",
      "dense_1 (Dense)              (None, 32)                544       \n",
      "_________________________________________________________________\n",
      "dense_2 (Dense)              (None, 16)                528       \n",
      "_________________________________________________________________\n",
      "dense_3 (Dense)              (None, 1)                 17        \n",
      "=================================================================\n",
      "Total params: 1,281\n",
      "Trainable params: 1,281\n",
      "Non-trainable params: 0\n",
      "_________________________________________________________________\n"
     ]
    }
   ],
   "source": [
    "model = keras.models.Sequential()  #load Sequential(), which is the major method for constructing a model\n",
    "model.add(keras.layers.Dense(16, activation = 'relu', input_shape=(11,)))\n",
    "\"\"\"\n",
    "input_shape is the dimension of the data which is necessary argument in the first layer.\n",
    "'activation'set as 'relu'（Rectified Linear Unit, ReLU）which is widely applied in deep learning now, intead of Sigmoid.\n",
    "The number of dense unit(set to be 8 here) is subjectively based on my personal experience with no reason.\n",
    "\"\"\"\n",
    "model.add(keras.layers.Dense(32, kernel_regularizer=keras.regularizers.l2(0.001), activation = 'relu'))\n",
    "model.add(keras.layers.Dense(16,kernel_regularizer=keras.regularizers.l2(0.001), activation = 'relu'))\n",
    "model.add(keras.layers.Dense(1)) #Since this is a regression problem, the num of dense unit is one.\n",
    "model.summary()"
   ]
  },
  {
   "cell_type": "markdown",
   "metadata": {},
   "source": [
    "##### *keras.regularizers.l2(): Regularizer\n",
    "This is a method to avoid overfitting. The math detail here(https://en.wikipedia.org/wiki/Regularization_(mathematics))"
   ]
  },
  {
   "cell_type": "code",
   "execution_count": 6,
   "metadata": {},
   "outputs": [
    {
     "data": {
      "text/plain": [
       "'\\nAdam is the most popular optimizer and fits most problems.\\n'"
      ]
     },
     "execution_count": 6,
     "metadata": {},
     "output_type": "execute_result"
    }
   ],
   "source": [
    "# compiling the model.\n",
    "model.compile(keras.optimizers.Adam(0.001),  ## learning rate\n",
    "              loss= keras.losses.MeanSquaredError(),#\n",
    "              metrics=[keras.metrics.MeanSquaredError()])\n",
    "\"\"\"\n",
    "Adam is the most popular optimizer and fits most problems.\n",
    "\"\"\""
   ]
  },
  {
   "cell_type": "markdown",
   "metadata": {},
   "source": [
    "Before the model is ready for training, it needs a few more settings. These are added during the model's *compile* step:\n",
    "\n",
    "\n",
    "* *Loss function* — An algorithm for measuring how far the model's outputs are from the desired output. The goal of training is this measures loss.\n",
    "* *Optimizer* —An algorithm for adjusting the inner parameters of the model in order to minimize loss.\n",
    "* *Metrics* —Used to monitor the training and testing steps. The following example uses *accuracy*, the fraction of the images that are correctly classified.\n",
    "\n",
    "Source: \"Basic classification: Classify images of clothing\", https://www.tensorflow.org/tutorials/keras/classification"
   ]
  },
  {
   "cell_type": "markdown",
   "metadata": {},
   "source": [
    "### Starting to train the model"
   ]
  },
  {
   "cell_type": "code",
   "execution_count": 7,
   "metadata": {
    "scrolled": true
   },
   "outputs": [
    {
     "name": "stdout",
     "output_type": "stream",
     "text": [
      "Train on 3428 samples, validate on 1470 samples\n",
      "Epoch 1/100\n",
      "3428/3428 [==============================] - 1s 247us/sample - loss: 27.5922 - mean_squared_error: 27.5499 - val_loss: 10.6583 - val_mean_squared_error: 10.6145\n",
      "Epoch 2/100\n",
      "3428/3428 [==============================] - 0s 82us/sample - loss: 4.4132 - mean_squared_error: 4.3687 - val_loss: 2.6931 - val_mean_squared_error: 2.6489\n",
      "Epoch 3/100\n",
      "3428/3428 [==============================] - 0s 78us/sample - loss: 2.2252 - mean_squared_error: 2.1814 - val_loss: 1.9889 - val_mean_squared_error: 1.9455\n",
      "Epoch 4/100\n",
      "3428/3428 [==============================] - 0s 100us/sample - loss: 1.6259 - mean_squared_error: 1.5829 - val_loss: 1.5688 - val_mean_squared_error: 1.5261\n",
      "Epoch 5/100\n",
      "3428/3428 [==============================] - 0s 75us/sample - loss: 1.2753 - mean_squared_error: 1.2330 - val_loss: 1.2752 - val_mean_squared_error: 1.2333\n",
      "Epoch 6/100\n",
      "3428/3428 [==============================] - 0s 89us/sample - loss: 1.0526 - mean_squared_error: 1.0110 - val_loss: 1.0817 - val_mean_squared_error: 1.0405\n",
      "Epoch 7/100\n",
      "3428/3428 [==============================] - 0s 85us/sample - loss: 0.9114 - mean_squared_error: 0.8705 - val_loss: 0.9526 - val_mean_squared_error: 0.9120\n",
      "Epoch 8/100\n",
      "3428/3428 [==============================] - 0s 68us/sample - loss: 0.8108 - mean_squared_error: 0.7704 - val_loss: 0.8501 - val_mean_squared_error: 0.8100\n",
      "Epoch 9/100\n",
      "3428/3428 [==============================] - 0s 78us/sample - loss: 0.7408 - mean_squared_error: 0.7010 - val_loss: 0.7886 - val_mean_squared_error: 0.7489\n",
      "Epoch 10/100\n",
      "3428/3428 [==============================] - 0s 82us/sample - loss: 0.6923 - mean_squared_error: 0.6529 - val_loss: 0.7402 - val_mean_squared_error: 0.7010\n",
      "Epoch 11/100\n",
      "3428/3428 [==============================] - 0s 76us/sample - loss: 0.6606 - mean_squared_error: 0.6216 - val_loss: 0.6868 - val_mean_squared_error: 0.6480\n",
      "Epoch 12/100\n",
      "3428/3428 [==============================] - 0s 73us/sample - loss: 0.6357 - mean_squared_error: 0.5971 - val_loss: 0.6739 - val_mean_squared_error: 0.6355\n",
      "Epoch 13/100\n",
      "3428/3428 [==============================] - 0s 83us/sample - loss: 0.6134 - mean_squared_error: 0.5752 - val_loss: 0.6394 - val_mean_squared_error: 0.6014\n",
      "Epoch 14/100\n",
      "3428/3428 [==============================] - 0s 84us/sample - loss: 0.6028 - mean_squared_error: 0.5649 - val_loss: 0.6330 - val_mean_squared_error: 0.5953\n",
      "Epoch 15/100\n",
      "3428/3428 [==============================] - 0s 67us/sample - loss: 0.5955 - mean_squared_error: 0.5580 - val_loss: 0.6210 - val_mean_squared_error: 0.5837\n",
      "Epoch 16/100\n",
      "3428/3428 [==============================] - 0s 74us/sample - loss: 0.5812 - mean_squared_error: 0.5441 - val_loss: 0.6015 - val_mean_squared_error: 0.5646\n",
      "Epoch 17/100\n",
      "3428/3428 [==============================] - 0s 70us/sample - loss: 0.5719 - mean_squared_error: 0.5351 - val_loss: 0.5969 - val_mean_squared_error: 0.5603\n",
      "Epoch 18/100\n",
      "3428/3428 [==============================] - 0s 76us/sample - loss: 0.5662 - mean_squared_error: 0.5297 - val_loss: 0.5845 - val_mean_squared_error: 0.5481\n",
      "Epoch 19/100\n",
      "3428/3428 [==============================] - 0s 83us/sample - loss: 0.5631 - mean_squared_error: 0.5269 - val_loss: 0.6017 - val_mean_squared_error: 0.5657\n",
      "Epoch 20/100\n",
      "3428/3428 [==============================] - 0s 126us/sample - loss: 0.5521 - mean_squared_error: 0.5161 - val_loss: 0.5967 - val_mean_squared_error: 0.5608\n",
      "Epoch 21/100\n",
      "3428/3428 [==============================] - 0s 117us/sample - loss: 0.5516 - mean_squared_error: 0.5159 - val_loss: 0.5902 - val_mean_squared_error: 0.5545\n",
      "Epoch 22/100\n",
      "3428/3428 [==============================] - 0s 133us/sample - loss: 0.5544 - mean_squared_error: 0.5190 - val_loss: 0.5804 - val_mean_squared_error: 0.5451\n",
      "Epoch 23/100\n",
      "3428/3428 [==============================] - 0s 107us/sample - loss: 0.5443 - mean_squared_error: 0.5091 - val_loss: 0.5660 - val_mean_squared_error: 0.5308\n",
      "Epoch 24/100\n",
      "3428/3428 [==============================] - 0s 93us/sample - loss: 0.5475 - mean_squared_error: 0.5124 - val_loss: 0.5596 - val_mean_squared_error: 0.5246\n",
      "Epoch 25/100\n",
      "3428/3428 [==============================] - 0s 79us/sample - loss: 0.5376 - mean_squared_error: 0.5027 - val_loss: 0.5625 - val_mean_squared_error: 0.5276\n",
      "Epoch 26/100\n",
      "3428/3428 [==============================] - 0s 116us/sample - loss: 0.5412 - mean_squared_error: 0.5064 - val_loss: 0.5573 - val_mean_squared_error: 0.5226\n",
      "Epoch 27/100\n",
      "3428/3428 [==============================] - 0s 112us/sample - loss: 0.5315 - mean_squared_error: 0.4969 - val_loss: 0.5519 - val_mean_squared_error: 0.5174\n",
      "Epoch 28/100\n",
      "3428/3428 [==============================] - 0s 117us/sample - loss: 0.5274 - mean_squared_error: 0.4929 - val_loss: 0.5527 - val_mean_squared_error: 0.5182\n",
      "Epoch 29/100\n",
      "3428/3428 [==============================] - 0s 139us/sample - loss: 0.5254 - mean_squared_error: 0.4910 - val_loss: 0.5488 - val_mean_squared_error: 0.5144\n",
      "Epoch 30/100\n",
      "3428/3428 [==============================] - 0s 123us/sample - loss: 0.5205 - mean_squared_error: 0.4861 - val_loss: 0.5539 - val_mean_squared_error: 0.5196\n",
      "Epoch 31/100\n",
      "3428/3428 [==============================] - 0s 99us/sample - loss: 0.5203 - mean_squared_error: 0.4860 - val_loss: 0.5431 - val_mean_squared_error: 0.5089\n",
      "Epoch 32/100\n",
      "3428/3428 [==============================] - 0s 78us/sample - loss: 0.5149 - mean_squared_error: 0.4807 - val_loss: 0.5453 - val_mean_squared_error: 0.5112\n",
      "Epoch 33/100\n",
      "3428/3428 [==============================] - 0s 80us/sample - loss: 0.5164 - mean_squared_error: 0.4822 - val_loss: 0.5464 - val_mean_squared_error: 0.5122\n",
      "Epoch 34/100\n",
      "3428/3428 [==============================] - 0s 87us/sample - loss: 0.5109 - mean_squared_error: 0.4767 - val_loss: 0.5444 - val_mean_squared_error: 0.5103\n",
      "Epoch 35/100\n",
      "3428/3428 [==============================] - 0s 111us/sample - loss: 0.5082 - mean_squared_error: 0.4741 - val_loss: 0.5789 - val_mean_squared_error: 0.5448\n",
      "Epoch 36/100\n",
      "3428/3428 [==============================] - 0s 121us/sample - loss: 0.5152 - mean_squared_error: 0.4811 - val_loss: 0.5691 - val_mean_squared_error: 0.5350\n",
      "Epoch 37/100\n",
      "3428/3428 [==============================] - 0s 108us/sample - loss: 0.5076 - mean_squared_error: 0.4735 - val_loss: 0.5491 - val_mean_squared_error: 0.5151\n",
      "Epoch 38/100\n",
      "3428/3428 [==============================] - 0s 104us/sample - loss: 0.4991 - mean_squared_error: 0.4652 - val_loss: 0.5407 - val_mean_squared_error: 0.5067\n",
      "Epoch 39/100\n",
      "3428/3428 [==============================] - 0s 70us/sample - loss: 0.4999 - mean_squared_error: 0.4660 - val_loss: 0.5497 - val_mean_squared_error: 0.5159\n",
      "Epoch 40/100\n",
      "3428/3428 [==============================] - 0s 77us/sample - loss: 0.4951 - mean_squared_error: 0.4612 - val_loss: 0.5348 - val_mean_squared_error: 0.5010\n",
      "Epoch 41/100\n",
      "3428/3428 [==============================] - 0s 75us/sample - loss: 0.4922 - mean_squared_error: 0.4583 - val_loss: 0.5573 - val_mean_squared_error: 0.5235\n",
      "Epoch 42/100\n",
      "3428/3428 [==============================] - 0s 75us/sample - loss: 0.4949 - mean_squared_error: 0.4611 - val_loss: 0.5442 - val_mean_squared_error: 0.5104\n",
      "Epoch 43/100\n",
      "3428/3428 [==============================] - 0s 71us/sample - loss: 0.4892 - mean_squared_error: 0.4555 - val_loss: 0.5438 - val_mean_squared_error: 0.5102\n",
      "Epoch 44/100\n",
      "3428/3428 [==============================] - 0s 71us/sample - loss: 0.4849 - mean_squared_error: 0.4512 - val_loss: 0.5509 - val_mean_squared_error: 0.5173\n",
      "Epoch 45/100\n",
      "3428/3428 [==============================] - 0s 80us/sample - loss: 0.4878 - mean_squared_error: 0.4542 - val_loss: 0.5336 - val_mean_squared_error: 0.5000\n",
      "Epoch 46/100\n",
      "3428/3428 [==============================] - 0s 76us/sample - loss: 0.4869 - mean_squared_error: 0.4533 - val_loss: 0.5343 - val_mean_squared_error: 0.5008\n",
      "Epoch 47/100\n",
      "3428/3428 [==============================] - 0s 122us/sample - loss: 0.4831 - mean_squared_error: 0.4496 - val_loss: 0.5476 - val_mean_squared_error: 0.5141\n",
      "Epoch 48/100\n",
      "3428/3428 [==============================] - 0s 121us/sample - loss: 0.4827 - mean_squared_error: 0.4492 - val_loss: 0.5357 - val_mean_squared_error: 0.5022\n",
      "Epoch 49/100\n"
     ]
    },
    {
     "name": "stdout",
     "output_type": "stream",
     "text": [
      "3428/3428 [==============================] - 0s 89us/sample - loss: 0.4811 - mean_squared_error: 0.4476 - val_loss: 0.5341 - val_mean_squared_error: 0.5006\n",
      "Epoch 50/100\n",
      "3428/3428 [==============================] - 0s 73us/sample - loss: 0.4789 - mean_squared_error: 0.4454 - val_loss: 0.5329 - val_mean_squared_error: 0.4995\n",
      "Epoch 51/100\n",
      "3428/3428 [==============================] - 0s 99us/sample - loss: 0.4791 - mean_squared_error: 0.4457 - val_loss: 0.5518 - val_mean_squared_error: 0.5185\n",
      "Epoch 52/100\n",
      "3428/3428 [==============================] - 0s 77us/sample - loss: 0.4764 - mean_squared_error: 0.4431 - val_loss: 0.5340 - val_mean_squared_error: 0.5006\n",
      "Epoch 53/100\n",
      "3428/3428 [==============================] - 0s 82us/sample - loss: 0.4758 - mean_squared_error: 0.4425 - val_loss: 0.5367 - val_mean_squared_error: 0.5034\n",
      "Epoch 54/100\n",
      "3428/3428 [==============================] - 0s 133us/sample - loss: 0.4721 - mean_squared_error: 0.4388 - val_loss: 0.5403 - val_mean_squared_error: 0.5071\n",
      "Epoch 55/100\n",
      "3428/3428 [==============================] - 0s 124us/sample - loss: 0.4720 - mean_squared_error: 0.4387 - val_loss: 0.5305 - val_mean_squared_error: 0.4973\n",
      "Epoch 56/100\n",
      "3428/3428 [==============================] - 0s 116us/sample - loss: 0.4765 - mean_squared_error: 0.4433 - val_loss: 0.5548 - val_mean_squared_error: 0.5217\n",
      "Epoch 57/100\n",
      "3428/3428 [==============================] - 0s 98us/sample - loss: 0.4742 - mean_squared_error: 0.4411 - val_loss: 0.5315 - val_mean_squared_error: 0.4984\n",
      "Epoch 58/100\n",
      "3428/3428 [==============================] - 0s 114us/sample - loss: 0.4710 - mean_squared_error: 0.4380 - val_loss: 0.5481 - val_mean_squared_error: 0.5150\n",
      "Epoch 59/100\n",
      "3428/3428 [==============================] - 0s 110us/sample - loss: 0.4699 - mean_squared_error: 0.4369 - val_loss: 0.5375 - val_mean_squared_error: 0.5045\n",
      "Epoch 60/100\n",
      "3428/3428 [==============================] - 0s 110us/sample - loss: 0.4694 - mean_squared_error: 0.4364 - val_loss: 0.5408 - val_mean_squared_error: 0.5079\n",
      "Epoch 61/100\n",
      "3428/3428 [==============================] - 0s 117us/sample - loss: 0.4651 - mean_squared_error: 0.4322 - val_loss: 0.5363 - val_mean_squared_error: 0.5034\n",
      "Epoch 62/100\n",
      "3428/3428 [==============================] - 0s 107us/sample - loss: 0.4681 - mean_squared_error: 0.4351 - val_loss: 0.5348 - val_mean_squared_error: 0.5019\n",
      "Epoch 63/100\n",
      "3428/3428 [==============================] - 0s 84us/sample - loss: 0.4644 - mean_squared_error: 0.4316 - val_loss: 0.5286 - val_mean_squared_error: 0.4958\n",
      "Epoch 64/100\n",
      "3428/3428 [==============================] - 0s 74us/sample - loss: 0.4635 - mean_squared_error: 0.4306 - val_loss: 0.5309 - val_mean_squared_error: 0.4982\n",
      "Epoch 65/100\n",
      "3428/3428 [==============================] - 0s 71us/sample - loss: 0.4599 - mean_squared_error: 0.4270 - val_loss: 0.5578 - val_mean_squared_error: 0.5249\n",
      "Epoch 66/100\n",
      "3428/3428 [==============================] - 0s 72us/sample - loss: 0.4637 - mean_squared_error: 0.4309 - val_loss: 0.5339 - val_mean_squared_error: 0.5011\n",
      "Epoch 67/100\n",
      "3428/3428 [==============================] - 0s 74us/sample - loss: 0.4640 - mean_squared_error: 0.4312 - val_loss: 0.5460 - val_mean_squared_error: 0.5133\n",
      "Epoch 68/100\n",
      "3428/3428 [==============================] - 0s 75us/sample - loss: 0.4625 - mean_squared_error: 0.4298 - val_loss: 0.5363 - val_mean_squared_error: 0.5035\n",
      "Epoch 69/100\n",
      "3428/3428 [==============================] - 0s 111us/sample - loss: 0.4620 - mean_squared_error: 0.4293 - val_loss: 0.5297 - val_mean_squared_error: 0.4971\n",
      "Epoch 70/100\n",
      "3428/3428 [==============================] - 0s 114us/sample - loss: 0.4556 - mean_squared_error: 0.4229 - val_loss: 0.5425 - val_mean_squared_error: 0.5099\n",
      "Epoch 71/100\n",
      "3428/3428 [==============================] - 0s 95us/sample - loss: 0.4611 - mean_squared_error: 0.4284 - val_loss: 0.5413 - val_mean_squared_error: 0.5087\n",
      "Epoch 72/100\n",
      "3428/3428 [==============================] - 0s 79us/sample - loss: 0.4590 - mean_squared_error: 0.4264 - val_loss: 0.5551 - val_mean_squared_error: 0.5225\n",
      "Epoch 73/100\n",
      "3428/3428 [==============================] - 0s 79us/sample - loss: 0.4586 - mean_squared_error: 0.4260 - val_loss: 0.5347 - val_mean_squared_error: 0.5021\n",
      "Epoch 74/100\n",
      "3428/3428 [==============================] - 0s 74us/sample - loss: 0.4576 - mean_squared_error: 0.4250 - val_loss: 0.5424 - val_mean_squared_error: 0.5098\n",
      "Epoch 75/100\n",
      "3428/3428 [==============================] - 0s 80us/sample - loss: 0.4557 - mean_squared_error: 0.4231 - val_loss: 0.5397 - val_mean_squared_error: 0.5072\n",
      "Epoch 76/100\n",
      "3428/3428 [==============================] - 0s 78us/sample - loss: 0.4549 - mean_squared_error: 0.4224 - val_loss: 0.5540 - val_mean_squared_error: 0.5214\n",
      "Epoch 77/100\n",
      "3428/3428 [==============================] - 0s 71us/sample - loss: 0.4553 - mean_squared_error: 0.4228 - val_loss: 0.5329 - val_mean_squared_error: 0.5004\n",
      "Epoch 78/100\n",
      "3428/3428 [==============================] - 0s 74us/sample - loss: 0.4572 - mean_squared_error: 0.4248 - val_loss: 0.5406 - val_mean_squared_error: 0.5082\n",
      "Epoch 79/100\n",
      "3428/3428 [==============================] - 0s 83us/sample - loss: 0.4544 - mean_squared_error: 0.4220 - val_loss: 0.5399 - val_mean_squared_error: 0.5075\n",
      "Epoch 80/100\n",
      "3428/3428 [==============================] - 0s 120us/sample - loss: 0.4534 - mean_squared_error: 0.4210 - val_loss: 0.5401 - val_mean_squared_error: 0.5078\n",
      "Epoch 81/100\n",
      "3428/3428 [==============================] - 0s 113us/sample - loss: 0.4523 - mean_squared_error: 0.4199 - val_loss: 0.5479 - val_mean_squared_error: 0.5155\n",
      "Epoch 82/100\n",
      "3428/3428 [==============================] - 0s 106us/sample - loss: 0.4518 - mean_squared_error: 0.4194 - val_loss: 0.5530 - val_mean_squared_error: 0.5206\n",
      "Epoch 83/100\n",
      "3428/3428 [==============================] - 0s 115us/sample - loss: 0.4536 - mean_squared_error: 0.4212 - val_loss: 0.5315 - val_mean_squared_error: 0.4992\n",
      "Epoch 84/100\n",
      "3428/3428 [==============================] - 0s 120us/sample - loss: 0.4486 - mean_squared_error: 0.4163 - val_loss: 0.5466 - val_mean_squared_error: 0.5143\n",
      "Epoch 85/100\n",
      "3428/3428 [==============================] - 0s 137us/sample - loss: 0.4487 - mean_squared_error: 0.4164 - val_loss: 0.5389 - val_mean_squared_error: 0.5066\n",
      "Epoch 86/100\n",
      "3428/3428 [==============================] - 0s 107us/sample - loss: 0.4512 - mean_squared_error: 0.4189 - val_loss: 0.5724 - val_mean_squared_error: 0.5402\n",
      "Epoch 87/100\n",
      "3428/3428 [==============================] - 0s 106us/sample - loss: 0.4533 - mean_squared_error: 0.4211 - val_loss: 0.5392 - val_mean_squared_error: 0.5070\n",
      "Epoch 88/100\n",
      "3428/3428 [==============================] - 0s 110us/sample - loss: 0.4513 - mean_squared_error: 0.4190 - val_loss: 0.5615 - val_mean_squared_error: 0.5293\n",
      "Epoch 89/100\n",
      "3428/3428 [==============================] - 0s 116us/sample - loss: 0.4557 - mean_squared_error: 0.4235 - val_loss: 0.5368 - val_mean_squared_error: 0.5045\n",
      "Epoch 90/100\n",
      "3428/3428 [==============================] - 0s 81us/sample - loss: 0.4500 - mean_squared_error: 0.4178 - val_loss: 0.5415 - val_mean_squared_error: 0.5093\n",
      "Epoch 91/100\n",
      "3428/3428 [==============================] - 0s 71us/sample - loss: 0.4439 - mean_squared_error: 0.4117 - val_loss: 0.5456 - val_mean_squared_error: 0.5134\n",
      "Epoch 92/100\n",
      "3428/3428 [==============================] - 0s 72us/sample - loss: 0.4431 - mean_squared_error: 0.4109 - val_loss: 0.5506 - val_mean_squared_error: 0.5184\n",
      "Epoch 93/100\n",
      "3428/3428 [==============================] - 0s 74us/sample - loss: 0.4474 - mean_squared_error: 0.4152 - val_loss: 0.5512 - val_mean_squared_error: 0.5190\n",
      "Epoch 94/100\n",
      "3428/3428 [==============================] - 0s 74us/sample - loss: 0.4445 - mean_squared_error: 0.4123 - val_loss: 0.5406 - val_mean_squared_error: 0.5084\n",
      "Epoch 95/100\n",
      "3428/3428 [==============================] - 0s 77us/sample - loss: 0.4403 - mean_squared_error: 0.4081 - val_loss: 0.5663 - val_mean_squared_error: 0.5341\n",
      "Epoch 96/100\n",
      "3428/3428 [==============================] - 0s 79us/sample - loss: 0.4372 - mean_squared_error: 0.4050 - val_loss: 0.5446 - val_mean_squared_error: 0.5124\n",
      "Epoch 97/100\n"
     ]
    },
    {
     "name": "stdout",
     "output_type": "stream",
     "text": [
      "3428/3428 [==============================] - 0s 75us/sample - loss: 0.4415 - mean_squared_error: 0.4093 - val_loss: 0.5444 - val_mean_squared_error: 0.5122\n",
      "Epoch 98/100\n",
      "3428/3428 [==============================] - 0s 79us/sample - loss: 0.4356 - mean_squared_error: 0.4034 - val_loss: 0.5384 - val_mean_squared_error: 0.5063\n",
      "Epoch 99/100\n",
      "3428/3428 [==============================] - 0s 80us/sample - loss: 0.4391 - mean_squared_error: 0.4069 - val_loss: 0.5374 - val_mean_squared_error: 0.5052\n",
      "Epoch 100/100\n",
      "3428/3428 [==============================] - 0s 115us/sample - loss: 0.4419 - mean_squared_error: 0.4097 - val_loss: 0.5384 - val_mean_squared_error: 0.5063\n"
     ]
    }
   ],
   "source": [
    "import math\n",
    "history = model.fit(xtrain, ytrain,\n",
    "                    batch_size=32,\n",
    "                    epochs=100,\n",
    "                    validation_data=(xtest,ytest),\n",
    "                    steps_per_epoch=math.ceil(len(xtrain)/32))"
   ]
  },
  {
   "cell_type": "markdown",
   "metadata": {},
   "source": [
    "### Ploting the loss and mse"
   ]
  },
  {
   "cell_type": "code",
   "execution_count": 8,
   "metadata": {},
   "outputs": [
    {
     "data": {
      "text/plain": [
       "<matplotlib.legend.Legend at 0x7f08dc2b51d0>"
      ]
     },
     "execution_count": 8,
     "metadata": {},
     "output_type": "execute_result"
    },
    {
     "data": {
      "image/png": "[encoded data removed]",
      "text/plain": [
       "<Figure size 432x288 with 1 Axes>"
      ]
     },
     "metadata": {
      "needs_background": "light"
     },
     "output_type": "display_data"
    }
   ],
   "source": [
    "%matplotlib inline\n",
    "import matplotlib.pylab as plt\n",
    "plt.plot(history.history['loss'], label='train')\n",
    "plt.plot(history.history['val_loss'], label='test')\n",
    "plt.xlabel('epochs')\n",
    "plt.ylabel('loss')\n",
    "plt.legend(loc='upper right')"
   ]
  },
  {
   "cell_type": "code",
   "execution_count": 9,
   "metadata": {
    "scrolled": false
   },
   "outputs": [
    {
     "data": {
      "text/plain": [
       "<matplotlib.legend.Legend at 0x7f09080d8e10>"
      ]
     },
     "execution_count": 9,
     "metadata": {},
     "output_type": "execute_result"
    },
    {
     "data": {
      "image/png": "[encoded data removed]",
      "text/plain": [
       "<Figure size 432x288 with 1 Axes>"
      ]
     },
     "metadata": {
      "needs_background": "light"
     },
     "output_type": "display_data"
    }
   ],
   "source": [
    "plt.plot(history.history['mean_squared_error'], label='train')\n",
    "plt.plot(history.history['val_mean_squared_error'], label='train')\n",
    "plt.xlabel('epochs')\n",
    "plt.ylabel('MSE')\n",
    "plt.legend(loc='upper right')"
   ]
  },
  {
   "cell_type": "markdown",
   "metadata": {},
   "source": [
    "As the plots showed, the epoch may be 10~20 is enough."
   ]
  },
  {
   "cell_type": "markdown",
   "metadata": {},
   "source": [
    "### Validation"
   ]
  },
  {
   "cell_type": "code",
   "execution_count": 10,
   "metadata": {
    "scrolled": true
   },
   "outputs": [
    {
     "name": "stdout",
     "output_type": "stream",
     "text": [
      "1470/1470 [==============================] - 0s 39us/sample - loss: 0.5384 - mean_squared_error: 0.5063\n",
      "MSE on test dataset: 0.50630826\n"
     ]
    }
   ],
   "source": [
    "test_loss, test_mse = model.evaluate(x=xtest,y=ytest, steps=math.ceil(len(xtest)/32))\n",
    "print('MSE on test dataset:', test_mse)"
   ]
  },
  {
   "cell_type": "code",
   "execution_count": 11,
   "metadata": {},
   "outputs": [
    {
     "data": {
      "text/html": [
       "<div>\n",
       "<style scoped>\n",
       "    .dataframe tbody tr th:only-of-type {\n",
       "        vertical-align: middle;\n",
       "    }\n",
       "\n",
       "    .dataframe tbody tr th {\n",
       "        vertical-align: top;\n",
       "    }\n",
       "\n",
       "    .dataframe thead th {\n",
       "        text-align: right;\n",
       "    }\n",
       "</style>\n",
       "<table border=\"1\" class=\"dataframe\">\n",
       "  <thead>\n",
       "    <tr style=\"text-align: right;\">\n",
       "      <th></th>\n",
       "      <th>actual value</th>\n",
       "      <th>prediction</th>\n",
       "    </tr>\n",
       "  </thead>\n",
       "  <tbody>\n",
       "    <tr>\n",
       "      <td>827</td>\n",
       "      <td>9.0</td>\n",
       "      <td>6.595831</td>\n",
       "    </tr>\n",
       "    <tr>\n",
       "      <td>1083</td>\n",
       "      <td>6.0</td>\n",
       "      <td>6.150350</td>\n",
       "    </tr>\n",
       "    <tr>\n",
       "      <td>2495</td>\n",
       "      <td>5.0</td>\n",
       "      <td>6.108482</td>\n",
       "    </tr>\n",
       "    <tr>\n",
       "      <td>1655</td>\n",
       "      <td>5.0</td>\n",
       "      <td>5.323632</td>\n",
       "    </tr>\n",
       "    <tr>\n",
       "      <td>4403</td>\n",
       "      <td>5.0</td>\n",
       "      <td>5.494446</td>\n",
       "    </tr>\n",
       "    <tr>\n",
       "      <td>...</td>\n",
       "      <td>...</td>\n",
       "      <td>...</td>\n",
       "    </tr>\n",
       "    <tr>\n",
       "      <td>4189</td>\n",
       "      <td>5.0</td>\n",
       "      <td>5.107970</td>\n",
       "    </tr>\n",
       "    <tr>\n",
       "      <td>2280</td>\n",
       "      <td>6.0</td>\n",
       "      <td>5.895752</td>\n",
       "    </tr>\n",
       "    <tr>\n",
       "      <td>2633</td>\n",
       "      <td>5.0</td>\n",
       "      <td>5.445680</td>\n",
       "    </tr>\n",
       "    <tr>\n",
       "      <td>1035</td>\n",
       "      <td>6.0</td>\n",
       "      <td>5.871938</td>\n",
       "    </tr>\n",
       "    <tr>\n",
       "      <td>2574</td>\n",
       "      <td>5.0</td>\n",
       "      <td>5.794697</td>\n",
       "    </tr>\n",
       "  </tbody>\n",
       "</table>\n",
       "<p>1470 rows × 2 columns</p>\n",
       "</div>"
      ],
      "text/plain": [
       "      actual value  prediction\n",
       "827            9.0    6.595831\n",
       "1083           6.0    6.150350\n",
       "2495           5.0    6.108482\n",
       "1655           5.0    5.323632\n",
       "4403           5.0    5.494446\n",
       "...            ...         ...\n",
       "4189           5.0    5.107970\n",
       "2280           6.0    5.895752\n",
       "2633           5.0    5.445680\n",
       "1035           6.0    5.871938\n",
       "2574           5.0    5.794697\n",
       "\n",
       "[1470 rows x 2 columns]"
      ]
     },
     "execution_count": 11,
     "metadata": {},
     "output_type": "execute_result"
    }
   ],
   "source": [
    "result=pd.DataFrame({'actual value':ytest})\n",
    "result['prediction'] = model.predict(xtest).reshape(1470,1)  #the original shape of np.array is (1, 1470).\n",
    "result"
   ]
  }
 ],
 "metadata": {
  "kernelspec": {
   "display_name": "Python 3",
   "language": "python",
   "name": "python3"
  },
  "language_info": {
   "codemirror_mode": {
    "name": "ipython",
    "version": 3
   },
   "file_extension": ".py",
   "mimetype": "text/x-python",
   "name": "python",
   "nbconvert_exporter": "python",
   "pygments_lexer": "ipython3",
   "version": "3.7.4"
  }
 },
 "nbformat": 4,
 "nbformat_minor": 2
}
